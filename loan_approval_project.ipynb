{
 "cells": [
  {
   "cell_type": "code",
   "execution_count": 2,
   "id": "42a42a87",
   "metadata": {},
   "outputs": [],
   "source": [
    "import pandas as pd\n",
    "import numpy as np\n",
    "import joblib\n",
    "\n",
    "from sklearn.model_selection import train_test_split, cross_val_score\n",
    "from sklearn.preprocessing import OneHotEncoder, StandardScaler\n",
    "from sklearn.impute import SimpleImputer\n",
    "from sklearn.pipeline import Pipeline\n",
    "from sklearn.compose import ColumnTransformer\n",
    "from sklearn.linear_model import LogisticRegression\n",
    "from sklearn.ensemble import RandomForestClassifier\n",
    "from sklearn.metrics import (\n",
    "    accuracy_score,\n",
    "    precision_score,\n",
    "    recall_score,\n",
    "    f1_score,\n",
    "    roc_auc_score,\n",
    "    confusion_matrix,\n",
    "    classification_report,\n",
    ")\n",
    "\n",
    "import matplotlib.pyplot as plt\n"
   ]
  },
  {
   "cell_type": "code",
   "execution_count": 3,
   "id": "29e78edc",
   "metadata": {},
   "outputs": [],
   "source": [
    "df = pd.read_csv(\"fraud.csv.csv\")\n",
    "df.columns = df.columns.str.strip()"
   ]
  },
  {
   "cell_type": "code",
   "execution_count": 4,
   "id": "fe65505f",
   "metadata": {},
   "outputs": [],
   "source": [
    "df[\"Credit_History\"] = df[\"Credit_History\"].fillna(0)"
   ]
  },
  {
   "cell_type": "code",
   "execution_count": 5,
   "id": "eeb43d69",
   "metadata": {},
   "outputs": [
    {
     "data": {
      "text/html": [
       "<div>\n",
       "<style scoped>\n",
       "    .dataframe tbody tr th:only-of-type {\n",
       "        vertical-align: middle;\n",
       "    }\n",
       "\n",
       "    .dataframe tbody tr th {\n",
       "        vertical-align: top;\n",
       "    }\n",
       "\n",
       "    .dataframe thead th {\n",
       "        text-align: right;\n",
       "    }\n",
       "</style>\n",
       "<table border=\"1\" class=\"dataframe\">\n",
       "  <thead>\n",
       "    <tr style=\"text-align: right;\">\n",
       "      <th></th>\n",
       "      <th>Loan_ID</th>\n",
       "      <th>Gender</th>\n",
       "      <th>Married</th>\n",
       "      <th>Dependents</th>\n",
       "      <th>Education</th>\n",
       "      <th>Self_Employed</th>\n",
       "      <th>ApplicantIncome</th>\n",
       "      <th>CoapplicantIncome</th>\n",
       "      <th>LoanAmount</th>\n",
       "      <th>Loan_Amount_Term</th>\n",
       "      <th>Credit_History</th>\n",
       "      <th>Property_Area</th>\n",
       "    </tr>\n",
       "  </thead>\n",
       "  <tbody>\n",
       "    <tr>\n",
       "      <th>0</th>\n",
       "      <td>LP001015</td>\n",
       "      <td>Male</td>\n",
       "      <td>Yes</td>\n",
       "      <td>0</td>\n",
       "      <td>Graduate</td>\n",
       "      <td>No</td>\n",
       "      <td>5720</td>\n",
       "      <td>0</td>\n",
       "      <td>110.0</td>\n",
       "      <td>360.0</td>\n",
       "      <td>1.0</td>\n",
       "      <td>Urban</td>\n",
       "    </tr>\n",
       "    <tr>\n",
       "      <th>1</th>\n",
       "      <td>LP001022</td>\n",
       "      <td>Male</td>\n",
       "      <td>Yes</td>\n",
       "      <td>1</td>\n",
       "      <td>Graduate</td>\n",
       "      <td>No</td>\n",
       "      <td>3076</td>\n",
       "      <td>1500</td>\n",
       "      <td>126.0</td>\n",
       "      <td>360.0</td>\n",
       "      <td>1.0</td>\n",
       "      <td>Urban</td>\n",
       "    </tr>\n",
       "    <tr>\n",
       "      <th>2</th>\n",
       "      <td>LP001031</td>\n",
       "      <td>Male</td>\n",
       "      <td>Yes</td>\n",
       "      <td>2</td>\n",
       "      <td>Graduate</td>\n",
       "      <td>No</td>\n",
       "      <td>5000</td>\n",
       "      <td>1800</td>\n",
       "      <td>208.0</td>\n",
       "      <td>360.0</td>\n",
       "      <td>1.0</td>\n",
       "      <td>Urban</td>\n",
       "    </tr>\n",
       "    <tr>\n",
       "      <th>3</th>\n",
       "      <td>LP001035</td>\n",
       "      <td>Male</td>\n",
       "      <td>Yes</td>\n",
       "      <td>2</td>\n",
       "      <td>Graduate</td>\n",
       "      <td>No</td>\n",
       "      <td>2340</td>\n",
       "      <td>2546</td>\n",
       "      <td>100.0</td>\n",
       "      <td>360.0</td>\n",
       "      <td>0.0</td>\n",
       "      <td>Urban</td>\n",
       "    </tr>\n",
       "    <tr>\n",
       "      <th>4</th>\n",
       "      <td>LP001051</td>\n",
       "      <td>Male</td>\n",
       "      <td>No</td>\n",
       "      <td>0</td>\n",
       "      <td>Not Graduate</td>\n",
       "      <td>No</td>\n",
       "      <td>3276</td>\n",
       "      <td>0</td>\n",
       "      <td>78.0</td>\n",
       "      <td>360.0</td>\n",
       "      <td>1.0</td>\n",
       "      <td>Urban</td>\n",
       "    </tr>\n",
       "  </tbody>\n",
       "</table>\n",
       "</div>"
      ],
      "text/plain": [
       "    Loan_ID Gender Married Dependents     Education Self_Employed  \\\n",
       "0  LP001015   Male     Yes          0      Graduate            No   \n",
       "1  LP001022   Male     Yes          1      Graduate            No   \n",
       "2  LP001031   Male     Yes          2      Graduate            No   \n",
       "3  LP001035   Male     Yes          2      Graduate            No   \n",
       "4  LP001051   Male      No          0  Not Graduate            No   \n",
       "\n",
       "   ApplicantIncome  CoapplicantIncome  LoanAmount  Loan_Amount_Term  \\\n",
       "0             5720                  0       110.0             360.0   \n",
       "1             3076               1500       126.0             360.0   \n",
       "2             5000               1800       208.0             360.0   \n",
       "3             2340               2546       100.0             360.0   \n",
       "4             3276                  0        78.0             360.0   \n",
       "\n",
       "   Credit_History Property_Area  \n",
       "0             1.0         Urban  \n",
       "1             1.0         Urban  \n",
       "2             1.0         Urban  \n",
       "3             0.0         Urban  \n",
       "4             1.0         Urban  "
      ]
     },
     "execution_count": 5,
     "metadata": {},
     "output_type": "execute_result"
    }
   ],
   "source": [
    "df.head()"
   ]
  },
  {
   "cell_type": "code",
   "execution_count": 6,
   "id": "ef77fd39",
   "metadata": {},
   "outputs": [],
   "source": [
    "df[\"ApplicantIncome\"] = df[\"ApplicantIncome\"].fillna(0)\n",
    "df[\"CoapplicantIncome\"] = df[\"CoapplicantIncome\"].fillna(0)\n",
    "df[\"LoanAmount\"] = df[\"LoanAmount\"].fillna(df[\"LoanAmount\"].median())\n",
    "df[\"Loan_Amount_Term\"] = df[\"Loan_Amount_Term\"].fillna(df[\"Loan_Amount_Term\"].median())"
   ]
  },
  {
   "cell_type": "code",
   "execution_count": 7,
   "id": "abc750ca",
   "metadata": {},
   "outputs": [],
   "source": [
    "total_income = df[\"ApplicantIncome\"] + df[\"CoapplicantIncome\"]\n",
    "ratio = df[\"LoanAmount\"] / (total_income.replace(0, np.nan))  # avoid div by zero\n",
    "ratio = ratio.fillna(1) "
   ]
  },
  {
   "cell_type": "code",
   "execution_count": 8,
   "id": "f8ed9cd6",
   "metadata": {},
   "outputs": [
    {
     "name": "stdout",
     "output_type": "stream",
     "text": [
      "Synthetic target distribution:\n",
      " Loan_Status\n",
      "1    272\n",
      "0     95\n",
      "Name: count, dtype: int64\n"
     ]
    }
   ],
   "source": [
    "df[\"Loan_Status\"] = (\n",
    "    (df[\"Credit_History\"] == 1)\n",
    "    & (ratio < 0.4)\n",
    "    & (df[\"Loan_Amount_Term\"] >= 180)\n",
    ").astype(int)  # 1 = approved, 0 = rejected \n",
    "print(\"Synthetic target distribution:\\n\", df[\"Loan_Status\"].value_counts())\n"
   ]
  },
  {
   "cell_type": "code",
   "execution_count": 9,
   "id": "b065dafa",
   "metadata": {},
   "outputs": [],
   "source": [
    "X = df.drop(columns=[\"Loan_ID\", \"Loan_Status\"], errors=\"ignore\")\n",
    "y = df[\"Loan_Status\"]"
   ]
  },
  {
   "cell_type": "code",
   "execution_count": 10,
   "id": "fdc53b74",
   "metadata": {},
   "outputs": [],
   "source": [
    "numeric_cols = [\n",
    "    \"ApplicantIncome\",\n",
    "    \"CoapplicantIncome\",\n",
    "    \"LoanAmount\",\n",
    "    \"Loan_Amount_Term\",\n",
    "    \"Credit_History\",\n",
    "]\n",
    "numeric_cols = [c for c in numeric_cols if c in X.columns]\n",
    "categorical_cols = [c for c in X.columns if c not in numeric_cols]"
   ]
  },
  {
   "cell_type": "code",
   "execution_count": 11,
   "id": "c74468c5",
   "metadata": {},
   "outputs": [],
   "source": [
    "numeric_pipeline = Pipeline([\n",
    "    (\"impute\", SimpleImputer(strategy=\"median\")),\n",
    "    (\"scale\", StandardScaler()),\n",
    "])\n",
    "\n",
    "categorical_pipeline = Pipeline([\n",
    "    (\"impute\", SimpleImputer(strategy=\"most_frequent\")),\n",
    "    (\"onehot\", OneHotEncoder(handle_unknown=\"ignore\", sparse_output=False)),\n",
    "])\n",
    "\n",
    "preprocessor = ColumnTransformer(transformers=[\n",
    "    (\"num\", numeric_pipeline, numeric_cols),\n",
    "    (\"cat\", categorical_pipeline, categorical_cols),\n",
    "])"
   ]
  },
  {
   "cell_type": "code",
   "execution_count": 12,
   "id": "cec70cbb",
   "metadata": {},
   "outputs": [],
   "source": [
    "X_train, X_test, y_train, y_test = train_test_split(\n",
    "    X, y, test_size=0.2, stratify=y, random_state=42\n",
    ")"
   ]
  },
  {
   "cell_type": "code",
   "execution_count": 13,
   "id": "1df2a5d3",
   "metadata": {},
   "outputs": [],
   "source": [
    "def evaluate_model(model, X_tr, X_te, y_tr, y_te, name=\"Model\"):\n",
    "    pipeline = Pipeline(steps=[(\"pre\", preprocessor), (\"model\", model)])\n",
    "    pipeline.fit(X_tr, y_tr)\n",
    "\n",
    "    y_pred = pipeline.predict(X_te)\n",
    "    proba = (\n",
    "        pipeline.predict_proba(X_te)[:, 1]\n",
    "        if hasattr(pipeline.named_steps[\"model\"], \"predict_proba\")\n",
    "        else None\n",
    "    )\n",
    "\n",
    "    print(f\"\\n=== {name} ===\")\n",
    "    print(\"Accuracy:\", accuracy_score(y_te, y_pred))\n",
    "    print(\"Precision:\", precision_score(y_te, y_pred, zero_division=0))\n",
    "    print(\"Recall:\", recall_score(y_te, y_pred, zero_division=0))\n",
    "    print(\"F1 Score:\", f1_score(y_te, y_pred, zero_division=0))\n",
    "    if proba is not None:\n",
    "        print(\"ROC AUC:\", roc_auc_score(y_te, proba))\n",
    "    print(\"Confusion Matrix:\\n\", confusion_matrix(y_te, y_pred))\n",
    "    print(\"Classification Report:\\n\", classification_report(y_te, y_pred, zero_division=0))\n",
    "\n",
    "    return pipeline"
   ]
  },
  {
   "cell_type": "code",
   "execution_count": 14,
   "id": "a12b62aa",
   "metadata": {},
   "outputs": [
    {
     "name": "stdout",
     "output_type": "stream",
     "text": [
      "\n",
      "=== Logistic Regression ===\n",
      "Accuracy: 1.0\n",
      "Precision: 1.0\n",
      "Recall: 1.0\n",
      "F1 Score: 1.0\n",
      "ROC AUC: 1.0\n",
      "Confusion Matrix:\n",
      " [[19  0]\n",
      " [ 0 55]]\n",
      "Classification Report:\n",
      "               precision    recall  f1-score   support\n",
      "\n",
      "           0       1.00      1.00      1.00        19\n",
      "           1       1.00      1.00      1.00        55\n",
      "\n",
      "    accuracy                           1.00        74\n",
      "   macro avg       1.00      1.00      1.00        74\n",
      "weighted avg       1.00      1.00      1.00        74\n",
      "\n"
     ]
    }
   ],
   "source": [
    "logistic = LogisticRegression(max_iter=500, class_weight=\"balanced\", random_state=42)\n",
    "logistic_pipe = evaluate_model(logistic, X_train, X_test, y_train, y_test, name=\"Logistic Regression\")\n"
   ]
  },
  {
   "cell_type": "code",
   "execution_count": 15,
   "id": "c7448f34",
   "metadata": {},
   "outputs": [
    {
     "name": "stdout",
     "output_type": "stream",
     "text": [
      "\n",
      "=== Random Forest ===\n",
      "Accuracy: 0.9864864864864865\n",
      "Precision: 0.9821428571428571\n",
      "Recall: 1.0\n",
      "F1 Score: 0.990990990990991\n",
      "ROC AUC: 1.0\n",
      "Confusion Matrix:\n",
      " [[18  1]\n",
      " [ 0 55]]\n",
      "Classification Report:\n",
      "               precision    recall  f1-score   support\n",
      "\n",
      "           0       1.00      0.95      0.97        19\n",
      "           1       0.98      1.00      0.99        55\n",
      "\n",
      "    accuracy                           0.99        74\n",
      "   macro avg       0.99      0.97      0.98        74\n",
      "weighted avg       0.99      0.99      0.99        74\n",
      "\n"
     ]
    }
   ],
   "source": [
    "rf = RandomForestClassifier(n_estimators=100, class_weight=\"balanced\", random_state=42)\n",
    "rf_pipe = evaluate_model(rf, X_train, X_test, y_train, y_test, name=\"Random Forest\")"
   ]
  },
  {
   "cell_type": "code",
   "execution_count": 16,
   "id": "becbec19",
   "metadata": {},
   "outputs": [
    {
     "name": "stdout",
     "output_type": "stream",
     "text": [
      "\n",
      "Random Forest CV ROC AUC (train): 1.0\n"
     ]
    }
   ],
   "source": [
    "cv_pipeline = Pipeline(steps=[(\"pre\", preprocessor), (\"model\", rf)])\n",
    "cv_scores = cross_val_score(cv_pipeline, X_train, y_train, cv=5, scoring=\"roc_auc\")\n",
    "print(\"\\nRandom Forest CV ROC AUC (train):\", cv_scores.mean())"
   ]
  },
  {
   "cell_type": "code",
   "execution_count": 17,
   "id": "96b1b761",
   "metadata": {},
   "outputs": [
    {
     "name": "stdout",
     "output_type": "stream",
     "text": [
      "\n",
      "Top feature importances:\n",
      "                     feature  importance\n",
      "4            Credit_History    0.630922\n",
      "0           ApplicantIncome    0.086792\n",
      "2                LoanAmount    0.065103\n",
      "3          Loan_Amount_Term    0.061780\n",
      "1         CoapplicantIncome    0.048917\n",
      "10             Dependents_1    0.010381\n",
      "18  Property_Area_Semiurban    0.009623\n",
      "9              Dependents_0    0.009363\n",
      "14   Education_Not Graduate    0.008640\n",
      "5             Gender_Female    0.008174\n"
     ]
    }
   ],
   "source": [
    "def get_feature_names(preprocessor_obj):\n",
    "    names = []\n",
    "    if numeric_cols:\n",
    "        names += numeric_cols\n",
    "    if categorical_cols:\n",
    "        ohe = preprocessor_obj.named_transformers_[\"cat\"][\"onehot\"]\n",
    "        cat_names = ohe.get_feature_names_out(categorical_cols)\n",
    "        names += list(cat_names)\n",
    "    return names\n",
    "\n",
    "feature_names = get_feature_names(rf_pipe.named_steps[\"pre\"])\n",
    "importances = rf_pipe.named_steps[\"model\"].feature_importances_\n",
    "fi_df = pd.DataFrame({\"feature\": feature_names, \"importance\": importances}).sort_values(\n",
    "    by=\"importance\", ascending=False\n",
    ")\n",
    "print(\"\\nTop feature importances:\\n\", fi_df.head(10))"
   ]
  },
  {
   "cell_type": "code",
   "execution_count": 18,
   "id": "f19e1d77",
   "metadata": {},
   "outputs": [
    {
     "data": {
      "image/png": "[encoded data removed]",
      "text/plain": [
       "<Figure size 700x400 with 1 Axes>"
      ]
     },
     "metadata": {},
     "output_type": "display_data"
    }
   ],
   "source": [
    "plt.figure(figsize=(7, 4))\n",
    "topk = fi_df.head(8)\n",
    "plt.barh(topk[\"feature\"][::-1], topk[\"importance\"][::-1])\n",
    "plt.title(\"Top Feature Importances (Random Forest)\")\n",
    "plt.tight_layout()\n",
    "plt.show()"
   ]
  },
  {
   "cell_type": "code",
   "execution_count": 19,
   "id": "5d06d473",
   "metadata": {},
   "outputs": [
    {
     "name": "stdout",
     "output_type": "stream",
     "text": [
      "\n",
      "Example input:\n",
      "[{'Gender': 'Male', 'Married': 'Yes', 'Dependents': '0', 'Education': 'Graduate', 'Self_Employed': 'No', 'ApplicantIncome': 2783, 'CoapplicantIncome': 2708, 'LoanAmount': 158.0, 'Loan_Amount_Term': 360.0, 'Credit_History': 1.0, 'Property_Area': 'Urban'}]\n",
      "Predicted synthetic approval: 1, probability: 0.98\n"
     ]
    }
   ],
   "source": [
    "example = X_test.iloc[[0]]\n",
    "pred = rf_pipe.predict(example)[0]\n",
    "proba = rf_pipe.predict_proba(example)[0][1]\n",
    "print(f\"\\nExample input:\\n{example.to_dict(orient='records')}\")\n",
    "print(f\"Predicted synthetic approval: {pred}, probability: {proba:.2f}\")"
   ]
  },
  {
   "cell_type": "code",
   "execution_count": 20,
   "id": "eb300965",
   "metadata": {},
   "outputs": [
    {
     "name": "stdout",
     "output_type": "stream",
     "text": [
      "\n",
      "Saved pipeline to 'loan_approval_model_synthetic.pkl'\n"
     ]
    }
   ],
   "source": [
    "joblib.dump(rf_pipe, \"loan_approval_model_synthetic.pkl\")\n",
    "print(\"\\nSaved pipeline to 'loan_approval_model_synthetic.pkl'\")"
   ]
  },
  {
   "cell_type": "code",
   "execution_count": 21,
   "id": "ceba9e73",
   "metadata": {},
   "outputs": [
    {
     "name": "stdout",
     "output_type": "stream",
     "text": [
      "     pred  approval_prob\n",
      "33      1           0.98\n",
      "123     0           0.20\n",
      "313     1           0.97\n",
      "329     0           0.26\n",
      "186     1           0.94\n",
      "231     1           0.95\n",
      "350     1           0.99\n",
      "132     1           0.95\n",
      "40      1           0.95\n",
      "99      0           0.14\n"
     ]
    }
   ],
   "source": [
    "import pandas as pd\n",
    "\n",
    "subset = X_test.iloc[:10].copy()\n",
    "subset[\"pred\"] = rf_pipe.predict(subset)\n",
    "subset[\"approval_prob\"] = rf_pipe.predict_proba(subset)[:, 1]\n",
    "print(subset[[\"pred\", \"approval_prob\"]].head(10))\n"
   ]
  },
  {
   "cell_type": "code",
   "execution_count": null,
   "id": "c343c4c1",
   "metadata": {},
   "outputs": [],
   "source": []
  }
 ],
 "metadata": {
  "kernelspec": {
   "display_name": "Python 3",
   "language": "python",
   "name": "python3"
  },
  "language_info": {
   "codemirror_mode": {
    "name": "ipython",
    "version": 3
   },
   "file_extension": ".py",
   "mimetype": "text/x-python",
   "name": "python",
   "nbconvert_exporter": "python",
   "pygments_lexer": "ipython3",
   "version": "3.13.1"
  }
 },
 "nbformat": 4,
 "nbformat_minor": 5
}
